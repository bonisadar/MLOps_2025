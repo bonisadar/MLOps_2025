{
 "cells": [
  {
   "cell_type": "code",
   "execution_count": 7,
   "id": "ece1db67-6c7a-443c-a601-5653082c9791",
   "metadata": {},
   "outputs": [],
   "source": [
    "import mlflow"
   ]
  },
  {
   "cell_type": "code",
   "execution_count": 8,
   "id": "ef1e5d9b-3f4c-40e4-b617-c8b3ee5ef0f8",
   "metadata": {},
   "outputs": [],
   "source": [
    "from mlflow import MlflowClient"
   ]
  },
  {
   "cell_type": "code",
   "execution_count": 9,
   "id": "3c3b3246-acb4-4006-b370-e527489cdf5b",
   "metadata": {},
   "outputs": [
    {
     "name": "stdout",
     "output_type": "stream",
     "text": [
      "MLflow Version: 2.22.0\n",
      "MLflow Path: /home/bonisadar/anaconda3/envs/generalpurpose/lib/python3.12/site-packages/mlflow/__init__.py\n"
     ]
    }
   ],
   "source": [
    "print(\"MLflow Version:\", mlflow.__version__)\n",
    "print(\"MLflow Path:\", mlflow.__file__)"
   ]
  },
  {
   "cell_type": "code",
   "execution_count": 5,
   "id": "a825795a-3e12-4e0c-bc78-78533f1a8c0e",
   "metadata": {},
   "outputs": [
    {
     "name": "stdout",
     "output_type": "stream",
     "text": [
      "3.45.3\n"
     ]
    }
   ],
   "source": [
    "import sqlite3\n",
    "print(sqlite3.sqlite_version)"
   ]
  },
  {
   "cell_type": "code",
   "execution_count": 13,
   "id": "550f6227-026a-4232-bfeb-884655a7068a",
   "metadata": {},
   "outputs": [
    {
     "data": {
      "text/plain": [
       "'file:///mnt/MY%20DATA/Github%20repository/DataTalks/MLOps_2025/notebook/mlruns'"
      ]
     },
     "execution_count": 13,
     "metadata": {},
     "output_type": "execute_result"
    }
   ],
   "source": [
    "mlflow.get_tracking_uri()"
   ]
  },
  {
   "cell_type": "code",
   "execution_count": 14,
   "id": "9b4d5c07-3a6c-4680-9aa9-0d8a81c2aad0",
   "metadata": {},
   "outputs": [
    {
     "name": "stdout",
     "output_type": "stream",
     "text": [
      "ID: 0 \n",
      "Name: Default \n",
      "Artifact Location: file:///mnt/MY%20DATA/Github%20repository/DataTalks/MLOps_2025/notebook/mlruns/0\n"
     ]
    }
   ],
   "source": [
    "client = MlflowClient()\n",
    "experiments = client.search_experiments()\n",
    "\n",
    "for exp in experiments:\n",
    "    print(f\"ID: {exp.experiment_id} \\nName: {exp.name} \\nArtifact Location: {exp.artifact_location}\")"
   ]
  },
  {
   "cell_type": "code",
   "execution_count": 15,
   "id": "c5517c84-713a-488a-8816-a05cc299501e",
   "metadata": {},
   "outputs": [
    {
     "name": "stderr",
     "output_type": "stream",
     "text": [
      "2025/05/24 12:01:55 INFO mlflow.tracking.fluent: Experiment with name 'my-experiment-1' does not exist. Creating a new experiment.\n",
      "\u001b[31m2025/05/24 12:01:57 WARNING mlflow.models.model: Model logged without a signature and input example. Please set `input_example` parameter when logging the model to auto infer the model signature.\u001b[0m\n"
     ]
    },
    {
     "name": "stdout",
     "output_type": "stream",
     "text": [
      "default artifacts URI: 'file:///mnt/MY%20DATA/Github%20repository/DataTalks/MLOps_2025/notebook/mlruns/981012665786136054/b0afd7d4a2734115b5e3fca5b5dce79d/artifacts'\n"
     ]
    }
   ],
   "source": [
    "from sklearn.linear_model import LogisticRegression\n",
    "from sklearn.datasets import load_iris\n",
    "from sklearn.metrics import accuracy_score\n",
    "\n",
    "mlflow.set_experiment(\"my-experiment-1\")\n",
    "\n",
    "with mlflow.start_run():\n",
    "\n",
    "    X, y = load_iris(return_X_y=True)\n",
    "\n",
    "    params = {\"C\": 0.1, \"random_state\": 42}\n",
    "    mlflow.log_params(params)\n",
    "\n",
    "    lr = LogisticRegression(**params).fit(X, y)\n",
    "    y_pred = lr.predict(X)\n",
    "    mlflow.log_metric(\"accuracy\", accuracy_score(y, y_pred))\n",
    "\n",
    "    mlflow.sklearn.log_model(lr, artifact_path=\"models\")\n",
    "    print(f\"default artifacts URI: '{mlflow.get_artifact_uri()}'\")"
   ]
  },
  {
   "cell_type": "code",
   "execution_count": 17,
   "id": "a0693e2b-e2db-48cf-99a1-ca04cc2ecae4",
   "metadata": {},
   "outputs": [
    {
     "name": "stdout",
     "output_type": "stream",
     "text": [
      "ID: 871025750041304529 \n",
      "Name: My_Taxi_DataTalk_Experiment \n",
      "Artifact Location: file:///media/bonisadar/MY%20DATA/Github%20repository/DataTalks/MLOps_2025/notebook/mlruns/871025750041304529\n"
     ]
    }
   ],
   "source": [
    "for exp in experiments:\n",
    "    print(f\"ID: {exp.experiment_id} \\nName: {exp.name} \\nArtifact Location: {exp.artifact_location}\")"
   ]
  },
  {
   "cell_type": "code",
   "execution_count": 18,
   "id": "2bf135f7-b87d-4713-9d62-14c2dc9b793f",
   "metadata": {},
   "outputs": [
    {
     "data": {
      "text/plain": [
       "[<Experiment: artifact_location='file:///media/bonisadar/MY%20DATA/Github%20repository/DataTalks/MLOps_2025/notebook/mlruns/265522931972145821', creation_time=1748060624702, experiment_id='265522931972145821', last_update_time=1748060624702, lifecycle_stage='active', name='my-experiment-1', tags={}>,\n",
       " <Experiment: artifact_location='file:///media/bonisadar/MY%20DATA/Github%20repository/DataTalks/MLOps_2025/notebook/mlruns/871025750041304529', creation_time=1747893210392, experiment_id='871025750041304529', last_update_time=1747893210392, lifecycle_stage='active', name='My_Taxi_DataTalk_Experiment', tags={}>]"
      ]
     },
     "execution_count": 18,
     "metadata": {},
     "output_type": "execute_result"
    }
   ],
   "source": [
    "mlflow.search_experiments()"
   ]
  },
  {
   "cell_type": "code",
   "execution_count": 22,
   "id": "a76aa982-d86d-4462-a53e-544cb0761173",
   "metadata": {},
   "outputs": [
    {
     "name": "stdout",
     "output_type": "stream",
     "text": [
      "+-----------------------------+--------------------+---------------------------------------------------------------------------------------------------------------+-------------+\n",
      "| Name                        |                 ID | Artifact Location                                                                                             | Lifecycle   |\n",
      "+=============================+====================+===============================================================================================================+=============+\n",
      "| my-experiment-1             | 265522931972145821 | file:///media/bonisadar/MY%20DATA/Github%20repository/DataTalks/MLOps_2025/notebook/mlruns/265522931972145821 | active      |\n",
      "+-----------------------------+--------------------+---------------------------------------------------------------------------------------------------------------+-------------+\n",
      "| My_Taxi_DataTalk_Experiment | 871025750041304529 | file:///media/bonisadar/MY%20DATA/Github%20repository/DataTalks/MLOps_2025/notebook/mlruns/871025750041304529 | active      |\n",
      "+-----------------------------+--------------------+---------------------------------------------------------------------------------------------------------------+-------------+\n"
     ]
    }
   ],
   "source": [
    "from tabulate import tabulate\n",
    "\n",
    "# Grab the experiments\n",
    "experiments = mlflow.search_experiments()\n",
    "\n",
    "# Extract key fields into a list of rows\n",
    "rows = []\n",
    "for exp in experiments:\n",
    "    rows.append([\n",
    "        exp.name,\n",
    "        exp.experiment_id,\n",
    "        exp.artifact_location,\n",
    "        exp.lifecycle_stage,\n",
    "    ])\n",
    "\n",
    "# Define headers\n",
    "headers = [\"Name\", \"ID\", \"Artifact Location\", \"Lifecycle\"]\n",
    "\n",
    "# Pretty print\n",
    "print(tabulate(rows, headers=headers, tablefmt=\"grid\"))"
   ]
  },
  {
   "cell_type": "code",
   "execution_count": 23,
   "id": "6f0ce019-36d7-45e8-a7da-8579736cc1d3",
   "metadata": {},
   "outputs": [],
   "source": [
    "client = MlflowClient()"
   ]
  },
  {
   "cell_type": "code",
   "execution_count": 25,
   "id": "22680c3e-29a4-47c4-8f8a-ad6526831cfc",
   "metadata": {},
   "outputs": [],
   "source": [
    "from mlflow import MlflowException\n",
    "\n",
    "try:\n",
    "    client.search_registered_models()\n",
    "except MlflowException:\n",
    "    print(\"It's not possible to access the model registry :(\")"
   ]
  },
  {
   "cell_type": "code",
   "execution_count": 26,
   "id": "3e53a54c-124a-455e-85a7-2084043902bc",
   "metadata": {},
   "outputs": [
    {
     "data": {
      "text/plain": [
       "[]"
      ]
     },
     "execution_count": 26,
     "metadata": {},
     "output_type": "execute_result"
    }
   ],
   "source": [
    "client.search_registered_models()"
   ]
  },
  {
   "cell_type": "code",
   "execution_count": null,
   "id": "89a475e6-6c2b-488b-b35a-0ee504afb52f",
   "metadata": {},
   "outputs": [],
   "source": []
  }
 ],
 "metadata": {
  "kernelspec": {
   "display_name": "Python 3 (ipykernel)",
   "language": "python",
   "name": "python3"
  },
  "language_info": {
   "codemirror_mode": {
    "name": "ipython",
    "version": 3
   },
   "file_extension": ".py",
   "mimetype": "text/x-python",
   "name": "python",
   "nbconvert_exporter": "python",
   "pygments_lexer": "ipython3",
   "version": "3.12.9"
  }
 },
 "nbformat": 4,
 "nbformat_minor": 5
}
